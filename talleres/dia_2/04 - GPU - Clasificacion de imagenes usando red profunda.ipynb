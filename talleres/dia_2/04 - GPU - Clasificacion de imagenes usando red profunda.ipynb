{
 "cells": [
  {
   "cell_type": "markdown",
   "metadata": {},
   "source": [
    "# Clasificación de imágenes usando una red profunda\n",
    "\n",
    "**Profesor:** Roberto Muñoz <br />\n",
    "**E-mail:** <rmunoz@metricarts.com> <br />\n",
    "\n",
    "**Colaborador:** Sebastián Arpón <br />\n",
    "**E-mail:** <rmunoz@metricarts.com> <br />\n",
    "\n",
    "\n",
    "Usaremos el dataset de perros y gatos. El dataset completo se puede descargar desde el link https://www.kaggle.com/c/dogs-vs-cats/data"
   ]
  },
  {
   "cell_type": "code",
   "execution_count": 1,
   "metadata": {},
   "outputs": [],
   "source": [
    "import warnings\n",
    "warnings.filterwarnings(\"ignore\")"
   ]
  },
  {
   "cell_type": "code",
   "execution_count": 2,
   "metadata": {},
   "outputs": [
    {
     "data": {
      "text/plain": [
       "[name: \"/device:CPU:0\"\n",
       " device_type: \"CPU\"\n",
       " memory_limit: 268435456\n",
       " locality {\n",
       " }\n",
       " incarnation: 17353652793812757963, name: \"/device:GPU:0\"\n",
       " device_type: \"GPU\"\n",
       " memory_limit: 10196979876\n",
       " locality {\n",
       "   bus_id: 1\n",
       "   links {\n",
       "   }\n",
       " }\n",
       " incarnation: 3175699111221355166\n",
       " physical_device_desc: \"device: 0, name: GeForce GTX TITAN X, pci bus id: 0000:09:00.0, compute capability: 5.2\"]"
      ]
     },
     "execution_count": 2,
     "metadata": {},
     "output_type": "execute_result"
    }
   ],
   "source": [
    "from tensorflow.python.client import device_lib\n",
    "device_lib.list_local_devices()"
   ]
  },
  {
   "cell_type": "code",
   "execution_count": 3,
   "metadata": {},
   "outputs": [
    {
     "data": {
      "text/plain": [
       "<contextlib._GeneratorContextManager at 0x11945542b38>"
      ]
     },
     "execution_count": 3,
     "metadata": {},
     "output_type": "execute_result"
    }
   ],
   "source": [
    "import tensorflow as tf\n",
    "from tensorflow.contrib.data.python.ops import prefetching_ops\n",
    "\n",
    "opts = tf.GPUOptions(per_process_gpu_memory_fraction=0.5)\n",
    "conf = tf.ConfigProto(gpu_options=opts)\n",
    "\n",
    "tf.enable_eager_execution(config=conf)\n",
    "tf.device(\"/gpu:0\")"
   ]
  },
  {
   "cell_type": "code",
   "execution_count": 4,
   "metadata": {},
   "outputs": [
    {
     "data": {
      "text/plain": [
       "'1.9.0'"
      ]
     },
     "execution_count": 4,
     "metadata": {},
     "output_type": "execute_result"
    }
   ],
   "source": [
    "tf.__version__"
   ]
  },
  {
   "cell_type": "code",
   "execution_count": 5,
   "metadata": {},
   "outputs": [],
   "source": [
    "import os\n",
    "import glob\n",
    "import requests\n",
    "import zipfile\n",
    "\n",
    "import numpy as np\n",
    "\n",
    "import matplotlib.pyplot as plt\n",
    "%matplotlib inline"
   ]
  },
  {
   "cell_type": "markdown",
   "metadata": {},
   "source": [
    "## 1. Descargamos los datos\n",
    "\n",
    "Descargamos un dataset pequeño de perros y gatos. Lo descargamos ejecutando el siguiente código"
   ]
  },
  {
   "cell_type": "code",
   "execution_count": 6,
   "metadata": {},
   "outputs": [],
   "source": [
    "data_url = \"https://metriclearning.blob.core.windows.net/tensorflow/cats_and_dogs_medium.zip\"\n",
    "\n",
    "# Puede elegir entre diferentes datasets\n",
    "# Pequeño: https://metriclearning.blob.core.windows.net/tensorflow/cats_and_dogs_small.zip\n",
    "# Mediano: https://metriclearning.blob.core.windows.net/tensorflow/cats_and_dogs_medium.zip\n",
    "# Grande: https://metriclearning.blob.core.windows.net/tensorflow/cats_and_dogs_large.zip\n",
    "\n",
    "data_dir = \"data\"\n",
    "data_file = os.path.join(data_dir, \"cats_and_dogs_medium.zip\")\n",
    "\n",
    "if not os.path.exists(data_dir):\n",
    "    os.mkdir(data_dir)\n",
    "\n",
    "response = requests.get(data_url)\n",
    "response_data = response.content\n",
    "\n",
    "with open(data_file, 'wb') as f:\n",
    "    f.write(response_data)\n",
    "\n",
    "with open(data_file, 'rb') as f:\n",
    "    zf = zipfile.ZipFile(f)\n",
    "    zf.extractall(data_dir)"
   ]
  },
  {
   "cell_type": "markdown",
   "metadata": {},
   "source": [
    "Hacemos un resize de las imágenes a 150 x 150 pixels"
   ]
  },
  {
   "cell_type": "code",
   "execution_count": 7,
   "metadata": {},
   "outputs": [],
   "source": [
    "def read_dir(directory):\n",
    "    cats = glob.glob(os.path.join(directory,\"cats\") + '/*.jpg')\n",
    "    dogs = glob.glob(os.path.join(directory,\"dogs\") + '/*.jpg')\n",
    "    m_images = cats + dogs\n",
    "    \n",
    "    m_labels = []\n",
    "    m_labels.extend([CAT] * len(cats))\n",
    "    m_labels.extend([DOG] * len(dogs))\n",
    "    assert len(m_labels) == len(m_images)\n",
    "    LABELS_DIMENSIONS = 2\n",
    "    m_labels = tf.one_hot(m_labels, LABELS_DIMENSIONS)\n",
    "    print(\"Encontre %d imagenes y etiquetas en %s\" %(len(m_images),directory))\n",
    "    return m_images, m_labels\n",
    "\n",
    "def load_image(path_to_image, p_label):\n",
    "    m_label = p_label\n",
    "    m_image = tf.read_file(path_to_image)\n",
    "    m_image = tf.image.decode_jpeg(m_image)\n",
    "    m_image = tf.image.resize_images(m_image,(150,150))\n",
    "    m_image = m_image / 255\n",
    "    return m_image, m_label"
   ]
  },
  {
   "cell_type": "code",
   "execution_count": 8,
   "metadata": {},
   "outputs": [
    {
     "name": "stdout",
     "output_type": "stream",
     "text": [
      "Carpeta con imagenes para el entrenamiento:  data/cats_and_dogs_medium\\train\n",
      "Carpeta con imagenes para la validación:  data/cats_and_dogs_medium\\validation\n",
      "\n",
      "Encontre 1600 imagenes y etiquetas en data/cats_and_dogs_medium\\train\n",
      "Encontre 400 imagenes y etiquetas en data/cats_and_dogs_medium\\validation\n"
     ]
    }
   ],
   "source": [
    "data_dir = \"data/cats_and_dogs_medium\"\n",
    "train_dir = os.path.join(data_dir, \"train\")\n",
    "val_dir = os.path.join(data_dir , \"validation\")\n",
    "\n",
    "CAT = 0\n",
    "DOG = 1\n",
    "\n",
    "print(\"Carpeta con imagenes para el entrenamiento: \", train_dir)\n",
    "print(\"Carpeta con imagenes para la validación: \", val_dir)\n",
    "print()\n",
    "\n",
    "train_images, train_labels = read_dir(train_dir)\n",
    "val_images, val_labels = read_dir(val_dir)"
   ]
  },
  {
   "cell_type": "code",
   "execution_count": 9,
   "metadata": {},
   "outputs": [
    {
     "name": "stdout",
     "output_type": "stream",
     "text": [
      "(150, 150, 3)\n",
      "tf.Tensor([1. 0.], shape=(2,), dtype=float32)\n"
     ]
    },
    {
     "data": {
      "text/plain": [
       "<matplotlib.image.AxesImage at 0x11bab124400>"
      ]
     },
     "execution_count": 9,
     "metadata": {},
     "output_type": "execute_result"
    },
    {
     "data": {
      "image/png": "[encoded data removed]",
      "text/plain": [
       "<Figure size 432x288 with 1 Axes>"
      ]
     },
     "metadata": {},
     "output_type": "display_data"
    }
   ],
   "source": [
    "i=np.random.randint(len(train_images))\n",
    "\n",
    "img, label = load_image(train_images[i], train_labels[i])\n",
    "\n",
    "print(img.shape)\n",
    "print(label)\n",
    "\n",
    "plt.imshow(img)"
   ]
  },
  {
   "cell_type": "markdown",
   "metadata": {},
   "source": [
    "## 2. Cargamos los datos en TensforFlow usando `tf.data`"
   ]
  },
  {
   "cell_type": "code",
   "execution_count": 27,
   "metadata": {},
   "outputs": [],
   "source": [
    "batch_size = 128\n",
    "buffer_size = 1000\n",
    "\n",
    "train_data_set = tf.data.Dataset.from_tensor_slices((train_images, train_labels))\n",
    "train_data_set = train_data_set.shuffle(buffer_size).map(load_image).batch(batch_size)\n",
    "#train_data_set = train_data_set.prefetch(buffer_size=4)\n",
    "train_data_set = train_data_set.apply(tf.contrib.data.prefetch_to_device(\"/gpu:0\", buffer_size=2))\n",
    "#train_data_set = train_data_set.apply(prefetching_ops.copy_to_device(\"/gpu:0\")) # Only works in TF > 1.10\n",
    "\n",
    "val_data_set = tf.data.Dataset.from_tensor_slices((val_images, val_labels))\n",
    "val_data_set = val_data_set.shuffle(buffer_size).map(load_image).batch(len(val_images))"
   ]
  },
  {
   "cell_type": "markdown",
   "metadata": {},
   "source": [
    "La variable train_data_set contiene las imagenes del dataset de entrenamiento ordenadas en batches. Imprimimos en pantalla el tipo de dato y recorrimos cada batch."
   ]
  },
  {
   "cell_type": "code",
   "execution_count": 28,
   "metadata": {},
   "outputs": [
    {
     "name": "stdout",
     "output_type": "stream",
     "text": [
      "<class 'tensorflow.contrib.data.python.ops.prefetching_ops._PrefetchToDeviceDataset'>\n"
     ]
    }
   ],
   "source": [
    "print(type(train_data_set))"
   ]
  },
  {
   "cell_type": "code",
   "execution_count": 29,
   "metadata": {},
   "outputs": [
    {
     "name": "stdout",
     "output_type": "stream",
     "text": [
      "<class 'tensorflow.python.data.ops.dataset_ops.BatchDataset'>\n"
     ]
    }
   ],
   "source": [
    "print(type(val_data_set))"
   ]
  },
  {
   "cell_type": "code",
   "execution_count": 30,
   "metadata": {},
   "outputs": [
    {
     "name": "stdout",
     "output_type": "stream",
     "text": [
      "Batch iteration:  0\n",
      "Batch image type:  <class 'EagerTensor'>\n",
      "Batch image shape:  (128, 150, 150, 3)\n",
      "Batch label type:  <class 'EagerTensor'>\n",
      "Batch label shape:  (128, 2)\n",
      "\n",
      "Batch iteration:  1\n",
      "Batch image type:  <class 'EagerTensor'>\n",
      "Batch image shape:  (128, 150, 150, 3)\n",
      "Batch label type:  <class 'EagerTensor'>\n",
      "Batch label shape:  (128, 2)\n",
      "\n",
      "Batch iteration:  2\n",
      "Batch image type:  <class 'EagerTensor'>\n",
      "Batch image shape:  (128, 150, 150, 3)\n",
      "Batch label type:  <class 'EagerTensor'>\n",
      "Batch label shape:  (128, 2)\n",
      "\n",
      "Batch iteration:  3\n",
      "Batch image type:  <class 'EagerTensor'>\n",
      "Batch image shape:  (128, 150, 150, 3)\n",
      "Batch label type:  <class 'EagerTensor'>\n",
      "Batch label shape:  (128, 2)\n",
      "\n",
      "Batch iteration:  4\n",
      "Batch image type:  <class 'EagerTensor'>\n",
      "Batch image shape:  (128, 150, 150, 3)\n",
      "Batch label type:  <class 'EagerTensor'>\n",
      "Batch label shape:  (128, 2)\n",
      "\n",
      "Batch iteration:  5\n",
      "Batch image type:  <class 'EagerTensor'>\n",
      "Batch image shape:  (128, 150, 150, 3)\n",
      "Batch label type:  <class 'EagerTensor'>\n",
      "Batch label shape:  (128, 2)\n",
      "\n",
      "Batch iteration:  6\n",
      "Batch image type:  <class 'EagerTensor'>\n",
      "Batch image shape:  (128, 150, 150, 3)\n",
      "Batch label type:  <class 'EagerTensor'>\n",
      "Batch label shape:  (128, 2)\n",
      "\n",
      "Batch iteration:  7\n",
      "Batch image type:  <class 'EagerTensor'>\n",
      "Batch image shape:  (128, 150, 150, 3)\n",
      "Batch label type:  <class 'EagerTensor'>\n",
      "Batch label shape:  (128, 2)\n",
      "\n",
      "Batch iteration:  8\n",
      "Batch image type:  <class 'EagerTensor'>\n",
      "Batch image shape:  (128, 150, 150, 3)\n",
      "Batch label type:  <class 'EagerTensor'>\n",
      "Batch label shape:  (128, 2)\n",
      "\n",
      "Batch iteration:  9\n",
      "Batch image type:  <class 'EagerTensor'>\n",
      "Batch image shape:  (128, 150, 150, 3)\n",
      "Batch label type:  <class 'EagerTensor'>\n",
      "Batch label shape:  (128, 2)\n",
      "\n",
      "Batch iteration:  10\n",
      "Batch image type:  <class 'EagerTensor'>\n",
      "Batch image shape:  (128, 150, 150, 3)\n",
      "Batch label type:  <class 'EagerTensor'>\n",
      "Batch label shape:  (128, 2)\n",
      "\n",
      "Batch iteration:  11\n",
      "Batch image type:  <class 'EagerTensor'>\n",
      "Batch image shape:  (128, 150, 150, 3)\n",
      "Batch label type:  <class 'EagerTensor'>\n",
      "Batch label shape:  (128, 2)\n",
      "\n",
      "Batch iteration:  12\n",
      "Batch image type:  <class 'EagerTensor'>\n",
      "Batch image shape:  (64, 150, 150, 3)\n",
      "Batch label type:  <class 'EagerTensor'>\n",
      "Batch label shape:  (64, 2)\n",
      "\n"
     ]
    }
   ],
   "source": [
    "for batch_i, (batch_image, batch_label) in enumerate(train_data_set):\n",
    "    print(\"Batch iteration: \", batch_i)\n",
    "    print(\"Batch image type: \", type(batch_image))\n",
    "    print(\"Batch image shape: \", batch_image.shape)\n",
    "    print(\"Batch label type: \", type(batch_label))\n",
    "    print(\"Batch label shape: \", batch_label.shape)\n",
    "    print()"
   ]
  },
  {
   "cell_type": "markdown",
   "metadata": {},
   "source": [
    "## 3. Definimos el modelo y lo entrenamos\n",
    "\n",
    "### Definimos la arquitectura de la red\n",
    "\n",
    "Usamos el método `AdamOptimizer` como funcion de optimización"
   ]
  },
  {
   "cell_type": "code",
   "execution_count": 86,
   "metadata": {},
   "outputs": [],
   "source": [
    "tf.keras.backend.clear_session()"
   ]
  },
  {
   "cell_type": "code",
   "execution_count": 87,
   "metadata": {
    "scrolled": false
   },
   "outputs": [
    {
     "name": "stdout",
     "output_type": "stream",
     "text": [
      "_________________________________________________________________\n",
      "Layer (type)                 Output Shape              Param #   \n",
      "=================================================================\n",
      "conv2d_1 (Conv2D)            (None, 146, 146, 16)      1216      \n",
      "_________________________________________________________________\n",
      "max_pooling2d_1 (MaxPooling2 (None, 73, 73, 16)        0         \n",
      "_________________________________________________________________\n",
      "conv2d_2 (Conv2D)            (None, 71, 71, 64)        9280      \n",
      "_________________________________________________________________\n",
      "max_pooling2d_2 (MaxPooling2 (None, 35, 35, 64)        0         \n",
      "_________________________________________________________________\n",
      "conv2d_3 (Conv2D)            (None, 33, 33, 128)       73856     \n",
      "_________________________________________________________________\n",
      "max_pooling2d_3 (MaxPooling2 (None, 16, 16, 128)       0         \n",
      "_________________________________________________________________\n",
      "conv2d_4 (Conv2D)            (None, 14, 14, 128)       147584    \n",
      "_________________________________________________________________\n",
      "max_pooling2d_4 (MaxPooling2 (None, 7, 7, 128)         0         \n",
      "_________________________________________________________________\n",
      "flatten_1 (Flatten)          (None, 6272)              0         \n",
      "_________________________________________________________________\n",
      "dense_1 (Dense)              (None, 512)               3211776   \n",
      "_________________________________________________________________\n",
      "dense_2 (Dense)              (None, 2)                 1026      \n",
      "=================================================================\n",
      "Total params: 3,444,738\n",
      "Trainable params: 3,444,738\n",
      "Non-trainable params: 0\n",
      "_________________________________________________________________\n"
     ]
    }
   ],
   "source": [
    "def create_model():\n",
    "\n",
    "    model = tf.keras.Sequential()\n",
    "\n",
    "    model.add(tf.layers.Conv2D(16, (5,5), activation=tf.nn.relu, input_shape=(150,150,3)))\n",
    "\n",
    "    model.add(tf.layers.MaxPooling2D(pool_size=(2,2),strides=2))\n",
    "\n",
    "    model.add(tf.layers.Conv2D(64,(3,3),activation=tf.nn.relu))\n",
    "    model.add(tf.layers.MaxPooling2D(pool_size=(2,2),strides=2))\n",
    "    model.add(tf.layers.Conv2D(128,(3,3),activation=tf.nn.relu))\n",
    "    model.add(tf.layers.MaxPooling2D(pool_size=(2,2),strides=2))\n",
    "    model.add(tf.layers.Conv2D(128,(3,3),activation=tf.nn.relu))\n",
    "    model.add(tf.layers.MaxPooling2D(pool_size=(2,2),strides=2))\n",
    "    model.add(tf.layers.Flatten())\n",
    "    model.add(tf.layers.Dense(512,activation=tf.nn.relu))\n",
    "    model.add(tf.layers.Dense(2,activation=tf.nn.softmax))\n",
    "    \n",
    "    model.compile(loss='categorical_crossentropy', \n",
    "                  optimizer=tf.train.AdamOptimizer(),\n",
    "                  metrics=['accuracy'])\n",
    "    \n",
    "    return model\n",
    "    \n",
    "model = create_model()    \n",
    "model.summary()"
   ]
  },
  {
   "cell_type": "markdown",
   "metadata": {},
   "source": [
    "### Definimos dos funciones para calcular las metricas de precision y recall"
   ]
  },
  {
   "cell_type": "code",
   "execution_count": 88,
   "metadata": {},
   "outputs": [],
   "source": [
    "def precision(labels, predictions, weights=None):\n",
    "    conf_matrix = tf.confusion_matrix(labels, predictions, num_classes=2)\n",
    "    tp_and_fp = tf.reduce_sum(conf_matrix, axis=0)\n",
    "    tp = tf.diag_part(conf_matrix)\n",
    "    precision_scores = tp/(tp_and_fp)\n",
    "    if weights:\n",
    "        precision_score = tf.multiply(precision_scores, weights)/tf.reduce_sum(weights)\n",
    "    else:\n",
    "        precision_score = tf.reduce_mean(precision_scores)        \n",
    "    return precision_score\n",
    "\n",
    "def recall(labels, predictions, weights=None):\n",
    "    conf_matrix = tf.confusion_matrix(labels, predictions, num_classes=2)\n",
    "    tp_and_fn = tf.reduce_sum(conf_matrix, axis=1)\n",
    "    tp = tf.diag_part(conf_matrix)\n",
    "    recall_scores = tp/(tp_and_fn)\n",
    "    if weights:\n",
    "        recall_score = tf.multiply(recall_scores, weights)/tf.reduce_sum(weights)\n",
    "    else:\n",
    "        recall_score = tf.reduce_mean(recall_scores)        \n",
    "    return recall_score"
   ]
  },
  {
   "cell_type": "markdown",
   "metadata": {},
   "source": [
    "### Entrenamos el modelo usando `train_on_batch()`"
   ]
  },
  {
   "cell_type": "code",
   "execution_count": 89,
   "metadata": {},
   "outputs": [],
   "source": [
    "checkpoint_dir='results'\n",
    "\n",
    "if not os.path.exists(checkpoint_dir):\n",
    "    os.mkdir(checkpoint_dir)"
   ]
  },
  {
   "cell_type": "code",
   "execution_count": 90,
   "metadata": {
    "scrolled": false
   },
   "outputs": [
    {
     "name": "stdout",
     "output_type": "stream",
     "text": [
      "13/13 [==============================] - 4s 290ms/step - train loss: 0.8148 - acc: 0.5871\n",
      "Entrenamiento época #1\t Loss: 0.653122\t Accuracy:  0.671875\t\n",
      "400/400 [==============================] - 0s 1ms/step\n",
      "Validacion época #1\t Loss: 0.710401\t Accuracy:  0.500000\t\n",
      "\n",
      "13/13 [==============================] - 4s 289ms/step - train loss: 0.7082 - acc: 0.5078\n",
      "Entrenamiento época #2\t Loss: 0.690418\t Accuracy:  0.687500\t\n",
      "400/400 [==============================] - 0s 1ms/step\n",
      "Validacion época #2\t Loss: 0.692938\t Accuracy:  0.500000\t\n",
      "\n",
      "13/13 [==============================] - 4s 288ms/step - train loss: 0.6928 - acc: 0.5144\n",
      "Entrenamiento época #3\t Loss: 0.691034\t Accuracy:  0.515625\t\n",
      "400/400 [==============================] - 0s 1ms/step\n",
      "Validacion época #3\t Loss: 0.688223\t Accuracy:  0.570000\t\n",
      "\n",
      "13/13 [==============================] - 4s 289ms/step - train loss: 0.6966 - acc: 0.5457\n",
      "Entrenamiento época #4\t Loss: 0.692503\t Accuracy:  0.515625\t\n",
      "400/400 [==============================] - 0s 1ms/step\n",
      "Validacion época #4\t Loss: 0.692783\t Accuracy:  0.510000\t\n",
      "\n",
      "13/13 [==============================] - 4s 289ms/step - train loss: 0.6928 - acc: 0.5120\n",
      "Entrenamiento época #5\t Loss: 0.690944\t Accuracy:  0.593750\t\n",
      "400/400 [==============================] - 0s 1ms/step\n",
      "Validacion época #5\t Loss: 0.691983\t Accuracy:  0.517500\t\n",
      "\n",
      "13/13 [==============================] - 4s 289ms/step - train loss: 0.6908 - acc: 0.5210\n",
      "Entrenamiento época #6\t Loss: 0.693845\t Accuracy:  0.687500\t\n",
      "400/400 [==============================] - 0s 1ms/step\n",
      "Validacion época #6\t Loss: 0.683967\t Accuracy:  0.565000\t\n",
      "\n",
      "13/13 [==============================] - 4s 288ms/step - train loss: 0.6881 - acc: 0.5541\n",
      "Entrenamiento época #7\t Loss: 0.687601\t Accuracy:  0.578125\t\n",
      "400/400 [==============================] - 0s 1ms/step\n",
      "Validacion época #7\t Loss: 0.686933\t Accuracy:  0.545000\t\n",
      "\n",
      "13/13 [==============================] - 4s 289ms/step - train loss: 0.6872 - acc: 0.5487\n",
      "Entrenamiento época #8\t Loss: 0.676946\t Accuracy:  0.609375\t\n",
      "400/400 [==============================] - 0s 1ms/step\n",
      "Validacion época #8\t Loss: 0.679219\t Accuracy:  0.585000\t\n",
      "\n",
      "13/13 [==============================] - 4s 290ms/step - train loss: 0.6813 - acc: 0.5457\n",
      "Entrenamiento época #9\t Loss: 0.694057\t Accuracy:  0.500000\t\n",
      "400/400 [==============================] - 0s 1ms/step\n",
      "Validacion época #9\t Loss: 0.685997\t Accuracy:  0.530000\t\n",
      "\n",
      "13/13 [==============================] - 4s 290ms/step - train loss: 0.6881 - acc: 0.5559\n",
      "Entrenamiento época #10\t Loss: 0.675851\t Accuracy:  0.578125\t\n",
      "400/400 [==============================] - 0s 1ms/step\n",
      "Validacion época #10\t Loss: 0.678046\t Accuracy:  0.587500\t\n",
      "\n",
      "13/13 [==============================] - 4s 289ms/step - train loss: 0.6743 - acc: 0.5625\n",
      "Entrenamiento época #11\t Loss: 0.668263\t Accuracy:  0.609375\t\n",
      "400/400 [==============================] - 0s 1ms/step\n",
      "Validacion época #11\t Loss: 0.695427\t Accuracy:  0.517500\t\n",
      "\n",
      "13/13 [==============================] - 4s 288ms/step - train loss: 0.6887 - acc: 0.5216\n",
      "Entrenamiento época #12\t Loss: 0.684487\t Accuracy:  0.609375\t\n",
      "400/400 [==============================] - 0s 1ms/step\n",
      "Validacion época #12\t Loss: 0.676582\t Accuracy:  0.570000\t\n",
      "\n",
      "13/13 [==============================] - 4s 290ms/step - train loss: 0.6647 - acc: 0.5841\n",
      "Entrenamiento época #13\t Loss: 0.669217\t Accuracy:  0.515625\t\n",
      "400/400 [==============================] - 0s 1ms/step\n",
      "Validacion época #13\t Loss: 0.666722\t Accuracy:  0.565000\t\n",
      "\n",
      "13/13 [==============================] - 4s 288ms/step - train loss: 0.6537 - acc: 0.5931\n",
      "Entrenamiento época #14\t Loss: 0.644969\t Accuracy:  0.640625\t\n",
      "400/400 [==============================] - 0s 1ms/step\n",
      "Validacion época #14\t Loss: 0.673988\t Accuracy:  0.535000\t\n",
      "\n",
      "13/13 [==============================] - 4s 289ms/step - train loss: 0.6594 - acc: 0.5739\n",
      "Entrenamiento época #15\t Loss: 0.601643\t Accuracy:  0.640625\t\n",
      "400/400 [==============================] - 0s 1ms/step\n",
      "Validacion época #15\t Loss: 0.671892\t Accuracy:  0.582500\t\n",
      "\n",
      "13/13 [==============================] - 4s 288ms/step - train loss: 0.6272 - acc: 0.6280\n",
      "Entrenamiento época #16\t Loss: 0.598931\t Accuracy:  0.687500\t\n",
      "400/400 [==============================] - 0s 1ms/step\n",
      "Validacion época #16\t Loss: 0.693173\t Accuracy:  0.565000\t\n",
      "\n",
      "13/13 [==============================] - 4s 289ms/step - train loss: 0.6360 - acc: 0.6256\n",
      "Entrenamiento época #17\t Loss: 0.626176\t Accuracy:  0.656250\t\n",
      "400/400 [==============================] - 0s 1ms/step\n",
      "Validacion época #17\t Loss: 0.656628\t Accuracy:  0.577500\t\n",
      "\n",
      "13/13 [==============================] - 4s 288ms/step - train loss: 0.6017 - acc: 0.6526\n",
      "Entrenamiento época #18\t Loss: 0.597137\t Accuracy:  0.687500\t\n",
      "400/400 [==============================] - 0s 1ms/step\n",
      "Validacion época #18\t Loss: 0.680820\t Accuracy:  0.625000\t\n",
      "\n",
      "13/13 [==============================] - 4s 288ms/step - train loss: 0.5785 - acc: 0.6803\n",
      "Entrenamiento época #19\t Loss: 0.537013\t Accuracy:  0.718750\t\n",
      "400/400 [==============================] - 0s 1ms/step\n",
      "Validacion época #19\t Loss: 0.670975\t Accuracy:  0.627500\t\n",
      "\n",
      "13/13 [==============================] - 4s 290ms/step - train loss: 0.5356 - acc: 0.7061\n",
      "Entrenamiento época #20\t Loss: 0.458214\t Accuracy:  0.765625\t\n",
      "400/400 [==============================] - 0s 1ms/step\n",
      "Validacion época #20\t Loss: 0.668101\t Accuracy:  0.655000\t\n",
      "\n",
      "13/13 [==============================] - 4s 290ms/step - train loss: 0.4823 - acc: 0.7422\n",
      "Entrenamiento época #21\t Loss: 0.484638\t Accuracy:  0.750000\t\n",
      "400/400 [==============================] - 0s 1ms/step\n",
      "Validacion época #21\t Loss: 0.672554\t Accuracy:  0.630000\t\n",
      "\n",
      "13/13 [==============================] - 4s 289ms/step - train loss: 0.4336 - acc: 0.7758\n",
      "Entrenamiento época #22\t Loss: 0.431403\t Accuracy:  0.796875\t\n",
      "400/400 [==============================] - 0s 1ms/step\n",
      "Validacion época #22\t Loss: 0.829530\t Accuracy:  0.612500\t\n",
      "\n",
      "13/13 [==============================] - 4s 289ms/step - train loss: 0.3637 - acc: 0.8221\n",
      "Entrenamiento época #23\t Loss: 0.286528\t Accuracy:  0.890625\t\n",
      "400/400 [==============================] - 0s 1ms/step\n",
      "Validacion época #23\t Loss: 0.896381\t Accuracy:  0.637500\t\n",
      "\n",
      "13/13 [==============================] - 4s 288ms/step - train loss: 0.2683 - acc: 0.8726\n",
      "Entrenamiento época #24\t Loss: 0.285203\t Accuracy:  0.890625\t\n",
      "400/400 [==============================] - 0s 1ms/step\n",
      "Validacion época #24\t Loss: 0.968196\t Accuracy:  0.612500\t\n",
      "\n",
      "13/13 [==============================] - 4s 288ms/step - train loss: 0.1883 - acc: 0.9219\n",
      "Entrenamiento época #25\t Loss: 0.209817\t Accuracy:  0.906250\t\n",
      "400/400 [==============================] - 0s 1ms/step\n",
      "Validacion época #25\t Loss: 1.337018\t Accuracy:  0.657500\t\n",
      "\n",
      "13/13 [==============================] - 4s 287ms/step - train loss: 0.1496 - acc: 0.9339\n",
      "Entrenamiento época #26\t Loss: 0.252456\t Accuracy:  0.859375\t\n",
      "400/400 [==============================] - 0s 1ms/step\n",
      "Validacion época #26\t Loss: 1.415451\t Accuracy:  0.657500\t\n",
      "\n",
      "13/13 [==============================] - 4s 289ms/step - train loss: 0.1220 - acc: 0.9513\n",
      "Entrenamiento época #27\t Loss: 0.138519\t Accuracy:  0.937500\t\n",
      "400/400 [==============================] - 0s 1ms/step\n",
      "Validacion época #27\t Loss: 1.379830\t Accuracy:  0.667500\t\n",
      "\n",
      "13/13 [==============================] - 4s 287ms/step - train loss: 0.1025 - acc: 0.9627\n",
      "Entrenamiento época #28\t Loss: 0.063019\t Accuracy:  0.984375\t\n",
      "400/400 [==============================] - 0s 1ms/step\n",
      "Validacion época #28\t Loss: 1.620378\t Accuracy:  0.645000\t\n",
      "\n",
      "13/13 [==============================] - 4s 289ms/step - train loss: 0.0525 - acc: 0.9838\n",
      "Entrenamiento época #29\t Loss: 0.075406\t Accuracy:  0.984375\t\n",
      "400/400 [==============================] - 0s 1ms/step\n",
      "Validacion época #29\t Loss: 1.980116\t Accuracy:  0.657500\t\n",
      "\n",
      "13/13 [==============================] - 4s 287ms/step - train loss: 0.0290 - acc: 0.9910\n",
      "Entrenamiento época #30\t Loss: 0.004561\t Accuracy:  1.000000\t\n",
      "400/400 [==============================] - 0s 1ms/step\n",
      "Validacion época #30\t Loss: 1.980453\t Accuracy:  0.630000\t\n",
      "\n",
      "13/13 [==============================] - 4s 289ms/step - train loss: 0.0136 - acc: 0.9970\n",
      "Entrenamiento época #31\t Loss: 0.014261\t Accuracy:  1.000000\t\n"
     ]
    },
    {
     "name": "stdout",
     "output_type": "stream",
     "text": [
      "400/400 [==============================] - 0s 1ms/step\n",
      "Validacion época #31\t Loss: 2.342008\t Accuracy:  0.652500\t\n",
      "\n",
      "13/13 [==============================] - 4s 288ms/step - train loss: 0.0088 - acc: 0.9988\n",
      "Entrenamiento época #32\t Loss: 0.005225\t Accuracy:  1.000000\t\n",
      "400/400 [==============================] - 0s 1ms/step\n",
      "Validacion época #32\t Loss: 2.205672\t Accuracy:  0.632500\t\n",
      "\n",
      "13/13 [==============================] - 4s 296ms/step - train loss: 0.0115 - acc: 0.9970\n",
      "Entrenamiento época #33\t Loss: 0.001702\t Accuracy:  1.000000\t\n",
      "400/400 [==============================] - 0s 1ms/step\n",
      "Validacion época #33\t Loss: 2.107873\t Accuracy:  0.680000\t\n",
      "\n",
      "13/13 [==============================] - 4s 290ms/step - train loss: 0.0241 - acc: 0.9940\n",
      "Entrenamiento época #34\t Loss: 0.003715\t Accuracy:  1.000000\t\n",
      "400/400 [==============================] - 0s 1ms/step\n",
      "Validacion época #34\t Loss: 2.050646\t Accuracy:  0.690000\t\n",
      "\n",
      "13/13 [==============================] - 4s 289ms/step - train loss: 0.0202 - acc: 0.9940\n",
      "Entrenamiento época #35\t Loss: 0.018740\t Accuracy:  1.000000\t\n",
      "400/400 [==============================] - 0s 1ms/step\n",
      "Validacion época #35\t Loss: 2.570652\t Accuracy:  0.630000\t\n",
      "\n",
      "13/13 [==============================] - 4s 287ms/step - train loss: 0.0245 - acc: 0.9916\n",
      "Entrenamiento época #36\t Loss: 0.033277\t Accuracy:  0.984375\t\n",
      "400/400 [==============================] - 0s 1ms/step\n",
      "Validacion época #36\t Loss: 2.475021\t Accuracy:  0.630000\t\n",
      "\n",
      "13/13 [==============================] - 4s 288ms/step - train loss: 0.0293 - acc: 0.9910\n",
      "Entrenamiento época #37\t Loss: 0.010932\t Accuracy:  1.000000\t\n",
      "400/400 [==============================] - 0s 1ms/step\n",
      "Validacion época #37\t Loss: 2.313423\t Accuracy:  0.657500\t\n",
      "\n",
      "13/13 [==============================] - 4s 287ms/step - train loss: 0.0590 - acc: 0.9838\n",
      "Entrenamiento época #38\t Loss: 0.205709\t Accuracy:  0.968750\t\n",
      "400/400 [==============================] - 0s 1ms/step\n",
      "Validacion época #38\t Loss: 2.284673\t Accuracy:  0.630000\t\n",
      "\n",
      "13/13 [==============================] - 4s 288ms/step - train loss: 0.0446 - acc: 0.9880\n",
      "Entrenamiento época #39\t Loss: 0.012210\t Accuracy:  1.000000\t\n",
      "400/400 [==============================] - 0s 1ms/step\n",
      "Validacion época #39\t Loss: 2.110015\t Accuracy:  0.647500\t\n",
      "\n",
      "13/13 [==============================] - 4s 287ms/step - train loss: 0.0294 - acc: 0.9946\n",
      "Entrenamiento época #40\t Loss: 0.009852\t Accuracy:  1.000000\t\n",
      "400/400 [==============================] - 0s 1ms/step\n",
      "Validacion época #40\t Loss: 2.047043\t Accuracy:  0.680000\t\n",
      "\n",
      "13/13 [==============================] - 4s 289ms/step - train loss: 0.0162 - acc: 0.9964\n",
      "Entrenamiento época #41\t Loss: 0.002933\t Accuracy:  1.000000\t\n",
      "400/400 [==============================] - 0s 1ms/step\n",
      "Validacion época #41\t Loss: 2.108021\t Accuracy:  0.685000\t\n",
      "\n",
      "13/13 [==============================] - 4s 289ms/step - train loss: 0.0061 - acc: 0.9994\n",
      "Entrenamiento época #42\t Loss: 0.005925\t Accuracy:  1.000000\t\n",
      "400/400 [==============================] - 0s 1ms/step\n",
      "Validacion época #42\t Loss: 2.289166\t Accuracy:  0.662500\t\n",
      "\n",
      "13/13 [==============================] - 4s 287ms/step - train loss: 0.0028 - acc: 0.9994\n",
      "Entrenamiento época #43\t Loss: 0.000574\t Accuracy:  1.000000\t\n",
      "400/400 [==============================] - 0s 1ms/step\n",
      "Validacion época #43\t Loss: 2.309937\t Accuracy:  0.682500\t\n",
      "\n",
      "13/13 [==============================] - 4s 287ms/step - train loss: 0.0018 - acc: 0.9994\n",
      "Entrenamiento época #44\t Loss: 0.001141\t Accuracy:  1.000000\t\n",
      "400/400 [==============================] - 0s 1ms/step\n",
      "Validacion época #44\t Loss: 2.258152\t Accuracy:  0.680000\t\n",
      "\n",
      "13/13 [==============================] - 4s 290ms/step - train loss: 7.2263e-04 - acc: 1.0000\n",
      "Entrenamiento época #45\t Loss: 0.000513\t Accuracy:  1.000000\t\n",
      "400/400 [==============================] - 0s 1ms/step\n",
      "Validacion época #45\t Loss: 2.353472\t Accuracy:  0.660000\t\n",
      "\n",
      "13/13 [==============================] - 4s 288ms/step - train loss: 4.0792e-04 - acc: 1.0000\n",
      "Entrenamiento época #46\t Loss: 0.000395\t Accuracy:  1.000000\t\n",
      "400/400 [==============================] - 0s 1ms/step\n",
      "Validacion época #46\t Loss: 2.408214\t Accuracy:  0.660000\t\n",
      "\n",
      "13/13 [==============================] - 4s 287ms/step - train loss: 2.8820e-04 - acc: 1.0000\n",
      "Entrenamiento época #47\t Loss: 0.000102\t Accuracy:  1.000000\t\n",
      "400/400 [==============================] - 0s 1ms/step\n",
      "Validacion época #47\t Loss: 2.436984\t Accuracy:  0.665000\t\n",
      "\n",
      "13/13 [==============================] - 4s 290ms/step - train loss: 2.2967e-04 - acc: 1.0000\n",
      "Entrenamiento época #48\t Loss: 0.000221\t Accuracy:  1.000000\t\n",
      "400/400 [==============================] - 0s 1ms/step\n",
      "Validacion época #48\t Loss: 2.456188\t Accuracy:  0.667500\t\n",
      "\n",
      "13/13 [==============================] - 4s 288ms/step - train loss: 1.8549e-04 - acc: 1.0000\n",
      "Entrenamiento época #49\t Loss: 0.000114\t Accuracy:  1.000000\t\n",
      "400/400 [==============================] - 0s 1ms/step\n",
      "Validacion época #49\t Loss: 2.473793\t Accuracy:  0.670000\t\n",
      "\n",
      "13/13 [==============================] - 4s 288ms/step - train loss: 1.5693e-04 - acc: 1.0000\n",
      "Entrenamiento época #50\t Loss: 0.000057\t Accuracy:  1.000000\t\n",
      "400/400 [==============================] - 0s 1ms/step\n",
      "Validacion época #50\t Loss: 2.490409\t Accuracy:  0.667500\t\n",
      "\n",
      "13/13 [==============================] - 4s 288ms/step - train loss: 1.3939e-04 - acc: 1.0000\n",
      "Entrenamiento época #51\t Loss: 0.000119\t Accuracy:  1.000000\t\n",
      "400/400 [==============================] - 0s 1ms/step\n",
      "Validacion época #51\t Loss: 2.503613\t Accuracy:  0.667500\t\n",
      "\n",
      "13/13 [==============================] - 4s 289ms/step - train loss: 1.2494e-04 - acc: 1.0000\n",
      "Entrenamiento época #52\t Loss: 0.000130\t Accuracy:  1.000000\t\n",
      "400/400 [==============================] - 0s 1ms/step\n",
      "Validacion época #52\t Loss: 2.516685\t Accuracy:  0.667500\t\n",
      "\n",
      "13/13 [==============================] - 4s 289ms/step - train loss: 1.1249e-04 - acc: 1.0000\n",
      "Entrenamiento época #53\t Loss: 0.000118\t Accuracy:  1.000000\t\n",
      "400/400 [==============================] - 0s 1ms/step\n",
      "Validacion época #53\t Loss: 2.528710\t Accuracy:  0.667500\t\n",
      "\n",
      "13/13 [==============================] - 4s 293ms/step - train loss: 1.0031e-04 - acc: 1.0000\n",
      "Entrenamiento época #54\t Loss: 0.000076\t Accuracy:  1.000000\t\n",
      "400/400 [==============================] - 0s 1ms/step\n",
      "Validacion época #54\t Loss: 2.540471\t Accuracy:  0.670000\t\n",
      "\n",
      "13/13 [==============================] - 4s 289ms/step - train loss: 9.2350e-05 - acc: 1.0000\n",
      "Entrenamiento época #55\t Loss: 0.000100\t Accuracy:  1.000000\t\n",
      "400/400 [==============================] - 0s 1ms/step\n",
      "Validacion época #55\t Loss: 2.550197\t Accuracy:  0.667500\t\n",
      "\n",
      "13/13 [==============================] - 4s 289ms/step - train loss: 8.4380e-05 - acc: 1.0000\n",
      "Entrenamiento época #56\t Loss: 0.000074\t Accuracy:  1.000000\t\n",
      "400/400 [==============================] - 0s 1ms/step\n",
      "Validacion época #56\t Loss: 2.559655\t Accuracy:  0.665000\t\n",
      "\n",
      "13/13 [==============================] - 4s 288ms/step - train loss: 7.7880e-05 - acc: 1.0000\n",
      "Entrenamiento época #57\t Loss: 0.000070\t Accuracy:  1.000000\t\n",
      "400/400 [==============================] - 0s 1ms/step\n",
      "Validacion época #57\t Loss: 2.568804\t Accuracy:  0.665000\t\n",
      "\n",
      "13/13 [==============================] - 4s 289ms/step - train loss: 7.1059e-05 - acc: 1.0000\n",
      "Entrenamiento época #58\t Loss: 0.000033\t Accuracy:  1.000000\t\n",
      "400/400 [==============================] - 0s 1ms/step\n",
      "Validacion época #58\t Loss: 2.578893\t Accuracy:  0.662500\t\n",
      "\n",
      "13/13 [==============================] - 4s 288ms/step - train loss: 6.6879e-05 - acc: 1.0000\n",
      "Entrenamiento época #59\t Loss: 0.000056\t Accuracy:  1.000000\t\n",
      "400/400 [==============================] - 0s 1ms/step\n",
      "Validacion época #59\t Loss: 2.587217\t Accuracy:  0.660000\t\n",
      "\n",
      "13/13 [==============================] - 4s 288ms/step - train loss: 6.1844e-05 - acc: 1.0000\n",
      "Entrenamiento época #60\t Loss: 0.000028\t Accuracy:  1.000000\t\n",
      "400/400 [==============================] - 0s 1ms/step\n",
      "Validacion época #60\t Loss: 2.595437\t Accuracy:  0.660000\t\n",
      "\n",
      "13/13 [==============================] - 4s 291ms/step - train loss: 6.1121e-05 - acc: 1.0000\n",
      "Entrenamiento época #61\t Loss: 0.000118\t Accuracy:  1.000000\t\n",
      "400/400 [==============================] - 0s 1ms/step\n",
      "Validacion época #61\t Loss: 2.602380\t Accuracy:  0.660000\t\n",
      "\n"
     ]
    },
    {
     "name": "stdout",
     "output_type": "stream",
     "text": [
      "13/13 [==============================] - 4s 289ms/step - train loss: 5.4854e-05 - acc: 1.0000\n",
      "Entrenamiento época #62\t Loss: 0.000038\t Accuracy:  1.000000\t\n",
      "400/400 [==============================] - 0s 1ms/step\n",
      "Validacion época #62\t Loss: 2.609888\t Accuracy:  0.657500\t\n",
      "\n",
      "13/13 [==============================] - 4s 288ms/step - train loss: 5.0906e-05 - acc: 1.0000\n",
      "Entrenamiento época #63\t Loss: 0.000024\t Accuracy:  1.000000\t\n",
      "400/400 [==============================] - 0s 1ms/step\n",
      "Validacion época #63\t Loss: 2.616063\t Accuracy:  0.657500\t\n",
      "\n",
      "13/13 [==============================] - 4s 288ms/step - train loss: 4.8483e-05 - acc: 1.0000\n",
      "Entrenamiento época #64\t Loss: 0.000032\t Accuracy:  1.000000\t\n",
      "400/400 [==============================] - 0s 1ms/step\n",
      "Validacion época #64\t Loss: 2.622425\t Accuracy:  0.657500\t\n",
      "\n",
      "13/13 [==============================] - 4s 289ms/step - train loss: 4.7832e-05 - acc: 1.0000\n",
      "Entrenamiento época #65\t Loss: 0.000078\t Accuracy:  1.000000\t\n",
      "400/400 [==============================] - 0s 1ms/step\n",
      "Validacion época #65\t Loss: 2.628922\t Accuracy:  0.657500\t\n",
      "\n",
      "13/13 [==============================] - 4s 290ms/step - train loss: 4.3208e-05 - acc: 1.0000\n",
      "Entrenamiento época #66\t Loss: 0.000018\t Accuracy:  1.000000\t\n",
      "400/400 [==============================] - 0s 1ms/step\n",
      "Validacion época #66\t Loss: 2.635475\t Accuracy:  0.655000\t\n",
      "\n",
      "13/13 [==============================] - 4s 288ms/step - train loss: 4.2081e-05 - acc: 1.0000\n",
      "Entrenamiento época #67\t Loss: 0.000047\t Accuracy:  1.000000\t\n",
      "400/400 [==============================] - 0s 1ms/step\n",
      "Validacion época #67\t Loss: 2.641166\t Accuracy:  0.652500\t\n",
      "\n",
      "13/13 [==============================] - 4s 290ms/step - train loss: 3.9136e-05 - acc: 1.0000\n",
      "Entrenamiento época #68\t Loss: 0.000019\t Accuracy:  1.000000\t\n",
      "400/400 [==============================] - 0s 1ms/step\n",
      "Validacion época #68\t Loss: 2.647049\t Accuracy:  0.652500\t\n",
      "\n",
      "13/13 [==============================] - 4s 288ms/step - train loss: 3.8628e-05 - acc: 1.0000\n",
      "Entrenamiento época #69\t Loss: 0.000055\t Accuracy:  1.000000\t\n",
      "400/400 [==============================] - 0s 1ms/step\n",
      "Validacion época #69\t Loss: 2.652361\t Accuracy:  0.652500\t\n",
      "\n",
      "13/13 [==============================] - 4s 288ms/step - train loss: 3.6752e-05 - acc: 1.0000\n",
      "Entrenamiento época #70\t Loss: 0.000047\t Accuracy:  1.000000\t\n",
      "400/400 [==============================] - 0s 1ms/step\n",
      "Validacion época #70\t Loss: 2.658200\t Accuracy:  0.652500\t\n",
      "\n",
      "13/13 [==============================] - 4s 288ms/step - train loss: 3.3698e-05 - acc: 1.0000\n",
      "Entrenamiento época #71\t Loss: 0.000010\t Accuracy:  1.000000\t\n",
      "400/400 [==============================] - 0s 1ms/step\n",
      "Validacion época #71\t Loss: 2.662914\t Accuracy:  0.650000\t\n",
      "\n",
      "13/13 [==============================] - 4s 290ms/step - train loss: 3.2527e-05 - acc: 1.0000\n",
      "Entrenamiento época #72\t Loss: 0.000018\t Accuracy:  1.000000\t\n",
      "400/400 [==============================] - 0s 1ms/step\n",
      "Validacion época #72\t Loss: 2.667642\t Accuracy:  0.650000\t\n",
      "\n",
      "13/13 [==============================] - 4s 288ms/step - train loss: 3.1428e-05 - acc: 1.0000\n",
      "Entrenamiento época #73\t Loss: 0.000022\t Accuracy:  1.000000\t\n",
      "400/400 [==============================] - 0s 1ms/step\n",
      "Validacion época #73\t Loss: 2.672889\t Accuracy:  0.650000\t\n",
      "\n",
      "13/13 [==============================] - 4s 288ms/step - train loss: 3.0772e-05 - acc: 1.0000\n",
      "Entrenamiento época #74\t Loss: 0.000036\t Accuracy:  1.000000\t\n",
      "400/400 [==============================] - 0s 1ms/step\n",
      "Validacion época #74\t Loss: 2.677388\t Accuracy:  0.650000\t\n",
      "\n",
      "13/13 [==============================] - 4s 288ms/step - train loss: 2.9169e-05 - acc: 1.0000\n",
      "Entrenamiento época #75\t Loss: 0.000025\t Accuracy:  1.000000\t\n",
      "400/400 [==============================] - 0s 1ms/step\n",
      "Validacion época #75\t Loss: 2.682012\t Accuracy:  0.650000\t\n",
      "\n",
      "13/13 [==============================] - 4s 288ms/step - train loss: 2.8876e-05 - acc: 1.0000\n",
      "Entrenamiento época #76\t Loss: 0.000046\t Accuracy:  1.000000\t\n",
      "400/400 [==============================] - 0s 1ms/step\n",
      "Validacion época #76\t Loss: 2.686498\t Accuracy:  0.650000\t\n",
      "\n",
      "13/13 [==============================] - 4s 289ms/step - train loss: 2.7430e-05 - acc: 1.0000\n",
      "Entrenamiento época #77\t Loss: 0.000036\t Accuracy:  1.000000\t\n",
      "400/400 [==============================] - 0s 1ms/step\n",
      "Validacion época #77\t Loss: 2.691204\t Accuracy:  0.647500\t\n",
      "\n",
      "13/13 [==============================] - 4s 288ms/step - train loss: 2.6523e-05 - acc: 1.0000\n",
      "Entrenamiento época #78\t Loss: 0.000038\t Accuracy:  1.000000\t\n",
      "400/400 [==============================] - 0s 1ms/step\n",
      "Validacion época #78\t Loss: 2.695266\t Accuracy:  0.647500\t\n",
      "\n",
      "13/13 [==============================] - 4s 289ms/step - train loss: 2.5158e-05 - acc: 1.0000\n",
      "Entrenamiento época #79\t Loss: 0.000026\t Accuracy:  1.000000\t\n",
      "400/400 [==============================] - 0s 1ms/step\n",
      "Validacion época #79\t Loss: 2.699334\t Accuracy:  0.647500\t\n",
      "\n",
      "13/13 [==============================] - 4s 288ms/step - train loss: 2.5021e-05 - acc: 1.0000\n",
      "Entrenamiento época #80\t Loss: 0.000045\t Accuracy:  1.000000\t\n",
      "400/400 [==============================] - 0s 1ms/step\n",
      "Validacion época #80\t Loss: 2.703706\t Accuracy:  0.647500\t\n",
      "\n",
      "13/13 [==============================] - 4s 289ms/step - train loss: 2.3298e-05 - acc: 1.0000\n",
      "Entrenamiento época #81\t Loss: 0.000021\t Accuracy:  1.000000\t\n",
      "400/400 [==============================] - 0s 1ms/step\n",
      "Validacion época #81\t Loss: 2.708169\t Accuracy:  0.647500\t\n",
      "\n",
      "13/13 [==============================] - 4s 287ms/step - train loss: 2.1952e-05 - acc: 1.0000\n",
      "Entrenamiento época #82\t Loss: 0.000006\t Accuracy:  1.000000\t\n",
      "400/400 [==============================] - 0s 1ms/step\n",
      "Validacion época #82\t Loss: 2.712704\t Accuracy:  0.647500\t\n",
      "\n",
      "13/13 [==============================] - 4s 289ms/step - train loss: 2.1183e-05 - acc: 1.0000\n",
      "Entrenamiento época #83\t Loss: 0.000005\t Accuracy:  1.000000\t\n",
      "400/400 [==============================] - 0s 1ms/step\n",
      "Validacion época #83\t Loss: 2.716466\t Accuracy:  0.650000\t\n",
      "\n",
      "13/13 [==============================] - 4s 288ms/step - train loss: 2.1380e-05 - acc: 1.0000\n",
      "Entrenamiento época #84\t Loss: 0.000027\t Accuracy:  1.000000\t\n",
      "400/400 [==============================] - 0s 1ms/step\n",
      "Validacion época #84\t Loss: 2.719969\t Accuracy:  0.650000\t\n",
      "\n",
      "13/13 [==============================] - 4s 287ms/step - train loss: 2.0523e-05 - acc: 1.0000\n",
      "Entrenamiento época #85\t Loss: 0.000023\t Accuracy:  1.000000\t\n",
      "400/400 [==============================] - 0s 1ms/step\n",
      "Validacion época #85\t Loss: 2.723664\t Accuracy:  0.650000\t\n",
      "\n",
      "13/13 [==============================] - 4s 289ms/step - train loss: 1.9822e-05 - acc: 1.0000\n",
      "Entrenamiento época #86\t Loss: 0.000020\t Accuracy:  1.000000\t\n",
      "400/400 [==============================] - 0s 1ms/step\n",
      "Validacion época #86\t Loss: 2.727094\t Accuracy:  0.650000\t\n",
      "\n",
      "13/13 [==============================] - 4s 288ms/step - train loss: 1.9011e-05 - acc: 1.0000\n",
      "Entrenamiento época #87\t Loss: 0.000014\t Accuracy:  1.000000\t\n",
      "400/400 [==============================] - 0s 1ms/step\n",
      "Validacion época #87\t Loss: 2.731286\t Accuracy:  0.650000\t\n",
      "\n",
      "13/13 [==============================] - 4s 289ms/step - train loss: 1.8362e-05 - acc: 1.0000\n",
      "Entrenamiento época #88\t Loss: 0.000011\t Accuracy:  1.000000\t\n",
      "400/400 [==============================] - 0s 1ms/step\n",
      "Validacion época #88\t Loss: 2.734799\t Accuracy:  0.647500\t\n",
      "\n",
      "13/13 [==============================] - 4s 287ms/step - train loss: 1.8017e-05 - acc: 1.0000\n",
      "Entrenamiento época #89\t Loss: 0.000017\t Accuracy:  1.000000\t\n",
      "400/400 [==============================] - 0s 1ms/step\n",
      "Validacion época #89\t Loss: 2.738578\t Accuracy:  0.647500\t\n",
      "\n",
      "13/13 [==============================] - 4s 288ms/step - train loss: 1.7666e-05 - acc: 1.0000\n",
      "Entrenamiento época #90\t Loss: 0.000021\t Accuracy:  1.000000\t\n",
      "400/400 [==============================] - 0s 1ms/step\n",
      "Validacion época #90\t Loss: 2.742151\t Accuracy:  0.647500\t\n",
      "\n",
      "13/13 [==============================] - 4s 287ms/step - train loss: 1.6979e-05 - acc: 1.0000\n",
      "Entrenamiento época #91\t Loss: 0.000015\t Accuracy:  1.000000\t\n",
      "400/400 [==============================] - 0s 1ms/step\n",
      "Validacion época #91\t Loss: 2.745377\t Accuracy:  0.647500\t\n",
      "\n"
     ]
    },
    {
     "name": "stdout",
     "output_type": "stream",
     "text": [
      "13/13 [==============================] - 4s 287ms/step - train loss: 1.6450e-05 - acc: 1.0000\n",
      "Entrenamiento época #92\t Loss: 0.000014\t Accuracy:  1.000000\t\n",
      "400/400 [==============================] - 0s 1ms/step\n",
      "Validacion época #92\t Loss: 2.748720\t Accuracy:  0.650000\t\n",
      "\n",
      "13/13 [==============================] - 4s 288ms/step - train loss: 1.5979e-05 - acc: 1.0000\n",
      "Entrenamiento época #93\t Loss: 0.000013\t Accuracy:  1.000000\t\n",
      "400/400 [==============================] - 0s 1ms/step\n",
      "Validacion época #93\t Loss: 2.751719\t Accuracy:  0.650000\t\n",
      "\n",
      "13/13 [==============================] - 4s 287ms/step - train loss: 1.5951e-05 - acc: 1.0000\n",
      "Entrenamiento época #94\t Loss: 0.000024\t Accuracy:  1.000000\t\n",
      "400/400 [==============================] - 0s 1ms/step\n",
      "Validacion época #94\t Loss: 2.754750\t Accuracy:  0.650000\t\n",
      "\n",
      "13/13 [==============================] - 4s 287ms/step - train loss: 1.5024e-05 - acc: 1.0000\n",
      "Entrenamiento época #95\t Loss: 0.000010\t Accuracy:  1.000000\t\n",
      "400/400 [==============================] - 0s 1ms/step\n",
      "Validacion época #95\t Loss: 2.758348\t Accuracy:  0.650000\t\n",
      "\n",
      "13/13 [==============================] - 4s 288ms/step - train loss: 1.5151e-05 - acc: 1.0000\n",
      "Entrenamiento época #96\t Loss: 0.000024\t Accuracy:  1.000000\t\n",
      "400/400 [==============================] - 0s 1ms/step\n",
      "Validacion época #96\t Loss: 2.761500\t Accuracy:  0.650000\t\n",
      "\n",
      "13/13 [==============================] - 4s 288ms/step - train loss: 1.4131e-05 - acc: 1.0000\n",
      "Entrenamiento época #97\t Loss: 0.000007\t Accuracy:  1.000000\t\n",
      "400/400 [==============================] - 0s 1ms/step\n",
      "Validacion época #97\t Loss: 2.764725\t Accuracy:  0.650000\t\n",
      "\n",
      "13/13 [==============================] - 4s 287ms/step - train loss: 1.3763e-05 - acc: 1.0000\n",
      "Entrenamiento época #98\t Loss: 0.000008\t Accuracy:  1.000000\t\n",
      "400/400 [==============================] - 0s 1ms/step\n",
      "Validacion época #98\t Loss: 2.767405\t Accuracy:  0.652500\t\n",
      "\n",
      "13/13 [==============================] - 4s 288ms/step - train loss: 1.3363e-05 - acc: 1.0000\n",
      "Entrenamiento época #99\t Loss: 0.000007\t Accuracy:  1.000000\t\n",
      "400/400 [==============================] - 0s 1ms/step\n",
      "Validacion época #99\t Loss: 2.770262\t Accuracy:  0.652500\t\n",
      "\n",
      "13/13 [==============================] - 4s 287ms/step - train loss: 1.3274e-05 - acc: 1.0000\n",
      "Entrenamiento época #100\t Loss: 0.000014\t Accuracy:  1.000000\t\n",
      "400/400 [==============================] - 0s 1ms/step\n",
      "Validacion época #100\t Loss: 2.772860\t Accuracy:  0.652500\t\n",
      "\n"
     ]
    }
   ],
   "source": [
    "EPOCHS = 100\n",
    "N_BATCHES = int(np.ceil(len(train_images)/batch_size))\n",
    "\n",
    "train_loss_epoch_list=[]\n",
    "train_acc_epoch_list=[]\n",
    "\n",
    "val_loss_epoch_list=[]\n",
    "val_accuracy_epoch_list=[]\n",
    "val_precision_epoch_list=[]\n",
    "val_recall_epoch_list=[]\n",
    "\n",
    "for epoch in range(EPOCHS):\n",
    "    \n",
    "    progbar = tf.keras.utils.Progbar(N_BATCHES)\n",
    "    for (batch, (images, labels)) in enumerate(train_data_set):\n",
    "        train_loss, train_accuracy = model.train_on_batch(images, labels)\n",
    "        progbar.add(1, values=[(\"train loss\", train_loss), (\"acc\", train_accuracy)])\n",
    "\n",
    "    model.save_weights(os.path.join(checkpoint_dir, \"model_cats_and_dogs_{:04d}.ckpt\".format(epoch+1)))\n",
    "        \n",
    "    train_loss_epoch_list.append(float(train_loss))\n",
    "    train_acc_epoch_list.append(float(train_accuracy))\n",
    "    print('Entrenamiento época #%d\\t Loss: %.6f\\t Accuracy:  %.6f\\t'% (epoch+1, train_loss, train_accuracy))\n",
    "    \n",
    "    iterator = val_data_set.make_one_shot_iterator()\n",
    "    images, labels = iterator.get_next()  \n",
    "    val_loss, val_accuracy = model.evaluate(images, labels)\n",
    "    \n",
    "    preds_value = model.predict_classes(images)\n",
    "    labels_value = tf.argmax(labels, axis=1).numpy()\n",
    "       \n",
    "    val_precision = precision(labels_value, preds_value, weights=None)\n",
    "    val_recall = recall(labels_value, preds_value, weights=None)\n",
    "    \n",
    "    val_loss_epoch_list.append(float(val_loss))\n",
    "    val_accuracy_epoch_list.append(float(val_accuracy))\n",
    "    val_precision_epoch_list.append(float(val_precision))\n",
    "    val_recall_epoch_list.append(float(val_recall))\n",
    "    \n",
    "    print('Validacion época #%d\\t Loss: %.6f\\t Accuracy:  %.6f\\t' % (epoch+1, val_loss, val_accuracy))\n",
    "    print()\n"
   ]
  },
  {
   "cell_type": "markdown",
   "metadata": {},
   "source": [
    "### Graficamos la evolución de la función de costo"
   ]
  },
  {
   "cell_type": "code",
   "execution_count": 91,
   "metadata": {},
   "outputs": [
    {
     "data": {
      "image/png": "[encoded data removed]",
      "text/plain": [
       "<Figure size 576x432 with 1 Axes>"
      ]
     },
     "metadata": {},
     "output_type": "display_data"
    }
   ],
   "source": [
    "fig, ax = plt.subplots(1,1, figsize=(8,6))\n",
    "\n",
    "x=x=np.arange(EPOCHS)+1\n",
    "ax.plot(x, train_loss_epoch_list, label=\"train\")\n",
    "\n",
    "plt.xlabel(\"Época\")\n",
    "plt.ylabel(\"Función de costo\")\n",
    "plt.legend(loc=1)\n",
    "plt.xlim(0,100)\n",
    "ax.grid(which='major', axis='x', linestyle='--')\n",
    "\n",
    "plt.title(\"Evolución de función de costo\")\n",
    "fig.savefig('results/loss_function_cats_and_dogs.png')"
   ]
  },
  {
   "cell_type": "markdown",
   "metadata": {},
   "source": [
    "### Graficamos la evolución del accuracy"
   ]
  },
  {
   "cell_type": "code",
   "execution_count": 92,
   "metadata": {},
   "outputs": [
    {
     "data": {
      "image/png": "[encoded data removed]",
      "text/plain": [
       "<Figure size 576x432 with 1 Axes>"
      ]
     },
     "metadata": {},
     "output_type": "display_data"
    }
   ],
   "source": [
    "fig, ax = plt.subplots(1,1, figsize=(8,6))\n",
    "\n",
    "x=np.arange(EPOCHS)+1\n",
    "ax.plot(x, train_acc_epoch_list, label=\"train\")\n",
    "ax.plot(x, val_accuracy_epoch_list, label=\"validation\")\n",
    "\n",
    "plt.xlabel(\"Época\")\n",
    "plt.ylabel(\"Accuracy\")\n",
    "plt.legend(loc=1)\n",
    "plt.xlim(0,100)\n",
    "plt.ylim(0.4,1.05)\n",
    "ax.grid(which='major', axis='x', linestyle='--')\n",
    "\n",
    "plt.title(\"Evolución del accuracy\")\n",
    "fig.savefig('results/accuracy_cats_and_dogs.png')"
   ]
  },
  {
   "cell_type": "code",
   "execution_count": 93,
   "metadata": {},
   "outputs": [
    {
     "data": {
      "image/png": "[encoded data removed]",
      "text/plain": [
       "<Figure size 576x432 with 1 Axes>"
      ]
     },
     "metadata": {},
     "output_type": "display_data"
    }
   ],
   "source": [
    "fig, ax = plt.subplots(1,1, figsize=(8,6))\n",
    "\n",
    "x=np.arange(EPOCHS)+1\n",
    "ax.plot(x, val_accuracy_epoch_list, label=\"accuracy\")\n",
    "ax.plot(x, val_recall_epoch_list, label=\"recall\")\n",
    "ax.plot(x, val_precision_epoch_list, label=\"precision\")\n",
    "\n",
    "plt.xlabel(\"Época\")\n",
    "plt.ylabel(\"Value\")\n",
    "plt.legend(loc=1)\n",
    "plt.xlim(0,100)\n",
    "plt.ylim(0.4,0.8)\n",
    "ax.grid(which='major', axis='x', linestyle='--')\n",
    "\n",
    "plt.title(\"Evolución de metricas\")\n",
    "fig.savefig('results/metrics_cats_and_dogs.png')"
   ]
  },
  {
   "cell_type": "markdown",
   "metadata": {},
   "source": [
    "## 4. Revisamos el rendimiento del modelo en diferentes épocas\n",
    "\n",
    "Listamos los pesos que guardamos para cada época"
   ]
  },
  {
   "cell_type": "code",
   "execution_count": 84,
   "metadata": {},
   "outputs": [],
   "source": [
    "pattern = os.path.join(\"results/model_cats*.ckpt\")\n",
    "checkpoints = sorted(glob.glob(pattern))\n",
    "\n",
    "for file in checkpoints:\n",
    "    print(file)"
   ]
  },
  {
   "cell_type": "markdown",
   "metadata": {},
   "source": [
    "Para validar el rendimiento del modelo usaremos el dataset de validación `val_data_set`\n",
    "\n",
    "Recuperamos los pesos para la **época 1** y evaluamos el modelo."
   ]
  },
  {
   "cell_type": "code",
   "execution_count": null,
   "metadata": {
    "scrolled": true
   },
   "outputs": [],
   "source": [
    "weight_file = 'results/model_cats_and_dogs_0001.ckpt'\n",
    "\n",
    "model = create_model()\n",
    "model.load_weights(weight_file)\n",
    "\n",
    "iterator = val_data_set.make_one_shot_iterator()\n",
    "images, labels = iterator.get_next()  \n",
    "\n",
    "loss, acc = model.evaluate(images, labels)\n",
    "\n",
    "print(\"Evaluation - Model accuracy: {:.4f}\".format(acc))"
   ]
  },
  {
   "cell_type": "markdown",
   "metadata": {},
   "source": [
    "Recuperamos los pesos para la **época 30** y evaluamos el modelo."
   ]
  },
  {
   "cell_type": "code",
   "execution_count": null,
   "metadata": {},
   "outputs": [],
   "source": [
    "weight_file = 'results/model_cats_and_dogs_0030.ckpt'\n",
    "\n",
    "model = create_model()\n",
    "model.load_weights(weight_file)\n",
    "\n",
    "iterator = val_data_set.make_one_shot_iterator()\n",
    "images, labels = iterator.get_next()  \n",
    "\n",
    "loss, acc = model.evaluate(images, labels)\n",
    "\n",
    "print(\"Evaluation - Model accuracy: {:.4f}\".format(acc))"
   ]
  },
  {
   "cell_type": "markdown",
   "metadata": {},
   "source": [
    "¿Que tál si revisamos el gráfico de evolución del accuracy y elegimos un época intermedia?\n",
    "\n",
    "Vemos que la **época 6** tiene un accuracy más alto que el resto."
   ]
  },
  {
   "cell_type": "code",
   "execution_count": null,
   "metadata": {},
   "outputs": [],
   "source": [
    "weight_file = 'results/model_cats_and_dogs_0006.ckpt'\n",
    "\n",
    "model = create_model()\n",
    "model.load_weights(weight_file)\n",
    "\n",
    "iterator = val_data_set.make_one_shot_iterator()\n",
    "images, labels = iterator.get_next()  \n",
    "\n",
    "loss, acc = model.evaluate(images, labels)\n",
    "\n",
    "print(\"Evaluation - Model accuracy: {:.4f}\".format(acc))"
   ]
  },
  {
   "cell_type": "markdown",
   "metadata": {},
   "source": [
    "Definitivamente los pesos obtenidos en la época 6 son los mejores que obtuvimos en este entrenamiento. Usaremos estos pesos para evaluar el rendimiento en imágenes nuevas."
   ]
  },
  {
   "cell_type": "markdown",
   "metadata": {},
   "source": [
    "## 5. Descargamos imágenes nuevas y predecimos a qué clase pertencen"
   ]
  },
  {
   "cell_type": "code",
   "execution_count": null,
   "metadata": {},
   "outputs": [],
   "source": [
    "import requests\n",
    "import io\n",
    "import imageio\n",
    "from skimage.transform import resize"
   ]
  },
  {
   "cell_type": "code",
   "execution_count": null,
   "metadata": {},
   "outputs": [],
   "source": [
    "url=\"https://misanimales.com/wp-content/uploads/2014/12/gato-enfermo.jpg\"\n",
    "\n",
    "response = requests.get(url, stream=True)\n",
    "im = imageio.imread(io.BytesIO(response.content))\n",
    "\n",
    "plt.imshow(im)"
   ]
  },
  {
   "cell_type": "markdown",
   "metadata": {},
   "source": [
    "Revisamos las dimensiones de la imagen"
   ]
  },
  {
   "cell_type": "code",
   "execution_count": null,
   "metadata": {},
   "outputs": [],
   "source": [
    "print(type(im))\n",
    "print(im.shape)\n",
    "print(np.min(im))\n",
    "print(np.max(im))"
   ]
  },
  {
   "cell_type": "markdown",
   "metadata": {},
   "source": [
    "Para usar el método predict() de TensorFlow primero debemos cambiar el tamaño de la imagen a 150x150 pixels, luego transformar la imagen en un Tensor y finalmente agregar una dimensión extra al comienzo"
   ]
  },
  {
   "cell_type": "code",
   "execution_count": null,
   "metadata": {},
   "outputs": [],
   "source": [
    "im_np = np.array(im)\n",
    "im_np = resize(im_np, (150,150))\n",
    "im_np = im_np.astype('float32')\n",
    "\n",
    "im_tf = tf.convert_to_tensor(im_np)\n",
    "im_tf = tf.expand_dims(im_tf, 0)"
   ]
  },
  {
   "cell_type": "code",
   "execution_count": null,
   "metadata": {},
   "outputs": [],
   "source": [
    "np.max(im_np)"
   ]
  },
  {
   "cell_type": "code",
   "execution_count": null,
   "metadata": {},
   "outputs": [],
   "source": [
    "model.predict(im_tf)"
   ]
  },
  {
   "cell_type": "code",
   "execution_count": null,
   "metadata": {
    "scrolled": true
   },
   "outputs": [],
   "source": [
    "model.predict_classes(im_tf)"
   ]
  },
  {
   "cell_type": "code",
   "execution_count": null,
   "metadata": {},
   "outputs": [],
   "source": [
    "def predict_url(url):\n",
    "    response = requests.get(url, stream=True)\n",
    "    im = imageio.imread(io.BytesIO(response.content))\n",
    "    \n",
    "    plt.imshow(im)\n",
    "    plt.show()\n",
    "    \n",
    "    im_np = np.array(im)\n",
    "    im_np = resize(im_np, (150,150))\n",
    "    im_np = im_np.astype('float32')\n",
    "\n",
    "    im_tf = tf.convert_to_tensor(im_np)\n",
    "    im_tf = tf.expand_dims(im_tf, 0)\n",
    "    \n",
    "    predict_class = model.predict_classes(im_tf)\n",
    "    \n",
    "    if predict_class == 0:\n",
    "        print(\"Predicción del modelo: Gato\")\n",
    "    elif predict_class == 1:\n",
    "        print(\"Predicción del modelo: Perro\")"
   ]
  },
  {
   "cell_type": "code",
   "execution_count": null,
   "metadata": {},
   "outputs": [],
   "source": [
    "url=\"https://misanimales.com/wp-content/uploads/2014/12/gato-enfermo.jpg\"\n",
    "predict_url(url)"
   ]
  },
  {
   "cell_type": "code",
   "execution_count": null,
   "metadata": {},
   "outputs": [],
   "source": [
    "url=\"https://s3-eu-west-1.amazonaws.com/barkibu-blog/blog+images/mi-perro-tiene-hipo-muy-seguido-que-le-pasa/perro-hipo-1.jpg\"\n",
    "predict_url(url)"
   ]
  },
  {
   "cell_type": "code",
   "execution_count": null,
   "metadata": {},
   "outputs": [],
   "source": []
  }
 ],
 "metadata": {
  "kernelspec": {
   "display_name": "Python 3",
   "language": "python",
   "name": "python3"
  },
  "language_info": {
   "codemirror_mode": {
    "name": "ipython",
    "version": 3
   },
   "file_extension": ".py",
   "mimetype": "text/x-python",
   "name": "python",
   "nbconvert_exporter": "python",
   "pygments_lexer": "ipython3",
   "version": "3.6.5"
  }
 },
 "nbformat": 4,
 "nbformat_minor": 2
}
