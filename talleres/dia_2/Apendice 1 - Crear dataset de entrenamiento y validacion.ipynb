{
 "cells": [
  {
   "cell_type": "markdown",
   "metadata": {},
   "source": [
    "# Crear dataset pequeño y mediano\n",
    "\n",
    "Usaremos el dataset de perros y gatos.\n",
    "\n",
    "El dataset completo se puede descargar desde el link https://www.kaggle.com/c/dogs-vs-cats/data"
   ]
  },
  {
   "cell_type": "code",
   "execution_count": 1,
   "metadata": {},
   "outputs": [],
   "source": [
    "import os\n",
    "import shutil\n",
    "import glob\n",
    "import random\n",
    "\n",
    "from sklearn.model_selection import train_test_split"
   ]
  },
  {
   "cell_type": "code",
   "execution_count": 2,
   "metadata": {},
   "outputs": [
    {
     "name": "stdout",
     "output_type": "stream",
     "text": [
      "['cat.0.jpg', 'cat.1.jpg', 'cat.10.jpg', 'cat.100.jpg', 'cat.1000.jpg']\n"
     ]
    }
   ],
   "source": [
    "input_data_dir = 'data/cats_and_dogs/train'\n",
    "\n",
    "pattern = os.path.join(input_data_dir, \"*.jpg\")\n",
    "data_file_full = sorted(glob.glob(pattern))\n",
    "data_file = list(map(lambda x: os.path.basename(x), data_file_full))\n",
    "\n",
    "print(data_file[0:5])"
   ]
  },
  {
   "cell_type": "code",
   "execution_count": 3,
   "metadata": {},
   "outputs": [],
   "source": [
    "data_file_cat_all = list(filter(lambda x: x.split(\".\")[0] == \"cat\", data_file))\n",
    "data_file_dog_all = list(filter(lambda x: x.split(\".\")[0] == \"dog\", data_file))"
   ]
  },
  {
   "cell_type": "code",
   "execution_count": 4,
   "metadata": {},
   "outputs": [
    {
     "name": "stdout",
     "output_type": "stream",
     "text": [
      "12500\n",
      "12500\n"
     ]
    }
   ],
   "source": [
    "print(len(data_file_cat_all))\n",
    "print(len(data_file_dog_all))"
   ]
  },
  {
   "cell_type": "code",
   "execution_count": 5,
   "metadata": {},
   "outputs": [],
   "source": [
    "data_file_cat = random.sample(data_file_cat_all, len(data_file_cat_all)) # large\n",
    "data_file_dog = random.sample(data_file_dog_all, len(data_file_dog_all)) # large\n",
    "\n",
    "#data_file_cat = random.sample(data_file_cat_all, 200) # small\n",
    "#data_file_dog = random.sample(data_file_dog_all, 200) # small\n",
    "\n",
    "#data_file_cat = random.sample(data_file_cat_all, 1000) # medium\n",
    "#data_file_dog = random.sample(data_file_dog_all, 1000) # medium"
   ]
  },
  {
   "cell_type": "code",
   "execution_count": 6,
   "metadata": {},
   "outputs": [
    {
     "name": "stdout",
     "output_type": "stream",
     "text": [
      "12500\n",
      "12500\n"
     ]
    }
   ],
   "source": [
    "print(len(data_file_cat))\n",
    "print(len(data_file_dog))"
   ]
  },
  {
   "cell_type": "code",
   "execution_count": 7,
   "metadata": {},
   "outputs": [],
   "source": [
    "output_train_dir = \"data/cats_and_dogs_large/train/cats\"\n",
    "output_validation_dir = \"data/cats_and_dogs_large/validation/cats\"\n",
    "\n",
    "if not os.path.exists(output_train_dir):\n",
    "    os.makedirs(output_train_dir)\n",
    "\n",
    "if not os.path.exists(output_validation_dir):\n",
    "    os.makedirs(output_validation_dir)\n",
    "    \n",
    "train, validation = train_test_split(data_file_cat, test_size=0.2, random_state=0)\n",
    "\n",
    "for file in train:\n",
    "    src_file = os.path.join(input_data_dir, file)\n",
    "    dst_file = os.path.join(output_train_dir, file)\n",
    "    shutil.copyfile(src_file, dst_file)\n",
    "    \n",
    "for file in validation:\n",
    "    src_file = os.path.join(input_data_dir, file)\n",
    "    dst_file = os.path.join(output_validation_dir, file)\n",
    "    shutil.copyfile(src_file, dst_file)\n"
   ]
  },
  {
   "cell_type": "code",
   "execution_count": 8,
   "metadata": {},
   "outputs": [],
   "source": [
    "output_train_dir = \"data/cats_and_dogs_large/train/dogs\"\n",
    "output_validation_dir = \"data/cats_and_dogs_large/validation/dogs\"\n",
    "\n",
    "if not os.path.exists(output_train_dir):\n",
    "    os.makedirs(output_train_dir)\n",
    "\n",
    "if not os.path.exists(output_validation_dir):\n",
    "    os.makedirs(output_validation_dir)\n",
    "    \n",
    "train, validation = train_test_split(data_file_dog, test_size=0.2, random_state=0)\n",
    "\n",
    "for file in train:\n",
    "    src_file = os.path.join(input_data_dir, file)\n",
    "    dst_file = os.path.join(output_train_dir, file)\n",
    "    shutil.copyfile(src_file, dst_file)\n",
    "    \n",
    "for file in validation:\n",
    "    src_file = os.path.join(input_data_dir, file)\n",
    "    dst_file = os.path.join(output_validation_dir, file)\n",
    "    shutil.copyfile(src_file, dst_file)\n"
   ]
  },
  {
   "cell_type": "code",
   "execution_count": null,
   "metadata": {
    "collapsed": true
   },
   "outputs": [],
   "source": []
  }
 ],
 "metadata": {
  "kernelspec": {
   "display_name": "Python 3",
   "language": "python",
   "name": "python3"
  },
  "language_info": {
   "codemirror_mode": {
    "name": "ipython",
    "version": 3
   },
   "file_extension": ".py",
   "mimetype": "text/x-python",
   "name": "python",
   "nbconvert_exporter": "python",
   "pygments_lexer": "ipython3",
   "version": "3.6.5"
  }
 },
 "nbformat": 4,
 "nbformat_minor": 2
}
