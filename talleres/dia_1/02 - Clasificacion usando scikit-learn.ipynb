{
 "cells": [
  {
   "cell_type": "markdown",
   "metadata": {},
   "source": [
    "# Clasificación usando scikit-learn\n",
    "\n",
    "**Profesor:** Roberto Muñoz <br />\n",
    "**E-mail:** <rmunoz@metricarts.com> <br />\n",
    "\n",
    "**Colaborador:** Sebastián Arpón <br />\n",
    "**E-mail:** <rmunoz@metricarts.com> <br />\n",
    "\n",
    "Uno de los módulos más importantes de Python es **[Numpy](http://www.numpy.org/)**. El origen de Numpy se debe principalmente al diseñador de software Jim Hugunin quien diseñó el módulo Numeric para dotar a Python de capacidades de cálculo similares a las de otros softwares como MATLAB. Posteriormente, mejoró Numeric incorporando nuevas funcionalidades naciendo lo que hoy conocemos como Numpy."
   ]
  },
  {
   "cell_type": "code",
   "execution_count": null,
   "metadata": {
    "collapsed": true
   },
   "outputs": [],
   "source": [
    "from sklearn.linear_model import Perceptron\n",
    "from sklearn.metrics import accuracy_score\n",
    "import numpy as np\n",
    "\n",
    "import matplotlib\n",
    "from matplotlib import pyplot as plt\n",
    "%matplotlib inline"
   ]
  },
  {
   "cell_type": "code",
   "execution_count": null,
   "metadata": {
    "collapsed": true
   },
   "outputs": [],
   "source": [
    "data = [[1.81, 0.80, 0.44],\n",
    "        [1.77, 0.70, 0.43],\n",
    "        [1.60, 0.60, 0.38],\n",
    "        [1.54, 0.54, 0.37],\n",
    "        [1.66, 0.65, 0.40],\n",
    "        [1.90, 0.90, 0.47],\n",
    "        [1.75, 0.64, 0.39],\n",
    "        [1.77, 0.70, 0.40],\n",
    "        [1.59, 0.55, 0.37],\n",
    "        [1.71, 0.75, 0.42],\n",
    "        [1.81, 0.85, 0.43]]\n",
    "\n",
    "labels = ['hombre', 'hombre', 'mujer', 'mujer', 'hombre', 'hombre', \n",
    "           'mujer', 'mujer', 'mujer', 'hombre', 'hombre']"
   ]
  },
  {
   "cell_type": "code",
   "execution_count": null,
   "metadata": {
    "collapsed": true
   },
   "outputs": [],
   "source": [
    "data_np=np.array(data)"
   ]
  },
  {
   "cell_type": "code",
   "execution_count": null,
   "metadata": {},
   "outputs": [],
   "source": [
    "color_dict={'hombre':'red', 'mujer':'blue'}"
   ]
  },
  {
   "cell_type": "code",
   "execution_count": null,
   "metadata": {},
   "outputs": [],
   "source": [
    "plt.scatter(data_np[:,0], data_np[:,1], c=[color_dict[x] for x in labels])\n",
    "\n",
    "plt.xlabel(\"altura\")\n",
    "plt.ylabel(\"peso\")\n",
    "\n",
    "custom_lines = [matplotlib.lines.Line2D([0], [0], color=\"red\", lw=4),\n",
    "                matplotlib.lines.Line2D([0], [0], color=\"blue\", lw=4)]\n",
    "plt.legend(custom_lines, ['Hombre', 'Mujer'])"
   ]
  },
  {
   "cell_type": "code",
   "execution_count": null,
   "metadata": {
    "collapsed": true
   },
   "outputs": [],
   "source": [
    "classif = Perceptron(alpha=0.0001, class_weight=None, eta0=1.0, fit_intercept=True,\n",
    "      max_iter=1000, n_jobs=1, penalty=None, random_state=0, shuffle=True,\n",
    "      verbose=0, warm_start=False)"
   ]
  },
  {
   "cell_type": "code",
   "execution_count": null,
   "metadata": {},
   "outputs": [],
   "source": [
    "classif.fit(data, labels)"
   ]
  },
  {
   "cell_type": "code",
   "execution_count": null,
   "metadata": {},
   "outputs": [],
   "source": [
    "pred_labels = classif.predict(data)\n",
    "accuracy = accuracy_score(labels, pred_labels) * 100\n",
    "print('Accuracy for perceptron: {} %'.format(accuracy))"
   ]
  },
  {
   "cell_type": "code",
   "execution_count": null,
   "metadata": {},
   "outputs": [],
   "source": [
    "prediction = classif.predict([[1.62, 0.49, 0.38]])\n",
    "\n",
    "print(prediction)"
   ]
  },
  {
   "cell_type": "code",
   "execution_count": null,
   "metadata": {
    "collapsed": true
   },
   "outputs": [],
   "source": []
  }
 ],
 "metadata": {
  "kernelspec": {
   "display_name": "Python 3",
   "language": "python",
   "name": "python3"
  },
  "language_info": {
   "codemirror_mode": {
    "name": "ipython",
    "version": 3
   },
   "file_extension": ".py",
   "mimetype": "text/x-python",
   "name": "python",
   "nbconvert_exporter": "python",
   "pygments_lexer": "ipython3",
   "version": "3.6.4"
  }
 },
 "nbformat": 4,
 "nbformat_minor": 2
}
