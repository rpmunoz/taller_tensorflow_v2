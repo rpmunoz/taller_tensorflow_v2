{
 "cells": [
  {
   "cell_type": "markdown",
   "metadata": {},
   "source": [
    "# Taller de TensorFlow\n",
    "\n",
    "**Profesor:** Roberto Muñoz <br />\n",
    "**E-mail:** <rmunoz@metricarts.com> <br />\n",
    "\n",
    "**Colaborador:** Sebastián Arpón <br />\n",
    "**E-mail:** <sarpon@metricarts.com> <br />\n",
    "\n",
    "### Actividad 1\n",
    "\n",
    "Este problema consiste en predecir la probabilidad de no pago (default) de una persona.\n",
    "\n",
    "Dentro de la carpeta `data` hay dos archivos:\n",
    "\n",
    "- data1_Default_train.csv: Dataset de entrenamiento\n",
    "\n",
    "- data1_Default_test.csv: Dataset de evaluación\n",
    "\n",
    "Construya una red neuronal de 2 capaz fully-connected y prediga la probabilidad de que una persona no sea capaz de pagar su tarjeta."
   ]
  },
  {
   "cell_type": "code",
   "execution_count": null,
   "metadata": {
    "collapsed": true
   },
   "outputs": [],
   "source": []
  }
 ],
 "metadata": {
  "kernelspec": {
   "display_name": "Python 3",
   "language": "python",
   "name": "python3"
  },
  "language_info": {
   "codemirror_mode": {
    "name": "ipython",
    "version": 3
   },
   "file_extension": ".py",
   "mimetype": "text/x-python",
   "name": "python",
   "nbconvert_exporter": "python",
   "pygments_lexer": "ipython3",
   "version": "3.6.4"
  }
 },
 "nbformat": 4,
 "nbformat_minor": 2
}
