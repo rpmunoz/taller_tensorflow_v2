{
 "cells": [
  {
   "cell_type": "markdown",
   "metadata": {},
   "source": [
    "# 04 - Clasificación usando regresión logísitica\n",
    "\n",
    "### Importar librerias y leer datos"
   ]
  },
  {
   "cell_type": "code",
   "execution_count": null,
   "metadata": {
    "collapsed": true
   },
   "outputs": [],
   "source": [
    "import pandas as pd\n",
    "import numpy as np\n",
    "import collections\n",
    "\n",
    "from sklearn import preprocessing\n",
    "from sklearn.model_selection import train_test_split"
   ]
  },
  {
   "cell_type": "markdown",
   "metadata": {},
   "source": [
    "### Leer datos y crear arreglo con atributos y etiquetas"
   ]
  },
  {
   "cell_type": "code",
   "execution_count": null,
   "metadata": {},
   "outputs": [],
   "source": [
    "data = pd.read_csv(\"data/data1_Default.csv\",sep=\",\",encoding=\"utf-8\")\n",
    "data.head()"
   ]
  },
  {
   "cell_type": "code",
   "execution_count": null,
   "metadata": {},
   "outputs": [],
   "source": [
    "# Crear arreglo de attributes\n",
    "att = data[[\"student\",\"balance\",\"income\"]].copy()\n",
    "\n",
    "encoder = preprocessing.LabelEncoder()\n",
    "encoder.fit(att[\"student\"])\n",
    "att[\"student\"] = encoder.transform(att[\"student\"])\n",
    "\n",
    "# Crear arreglo de labels\n",
    "label = data[\"default\"].copy()\n",
    "\n",
    "encoder = preprocessing.LabelEncoder()\n",
    "encoder.fit(label)\n",
    "label = encoder.transform(label)"
   ]
  },
  {
   "cell_type": "code",
   "execution_count": null,
   "metadata": {},
   "outputs": [],
   "source": [
    "att.head()"
   ]
  },
  {
   "cell_type": "code",
   "execution_count": null,
   "metadata": {},
   "outputs": [],
   "source": [
    "label[:5]"
   ]
  },
  {
   "cell_type": "code",
   "execution_count": null,
   "metadata": {},
   "outputs": [],
   "source": [
    "print(collections.Counter(label))"
   ]
  },
  {
   "cell_type": "markdown",
   "metadata": {},
   "source": [
    "### Crear conjunto de entrenamiento y de testeo."
   ]
  },
  {
   "cell_type": "code",
   "execution_count": null,
   "metadata": {
    "collapsed": true
   },
   "outputs": [],
   "source": [
    "# Splitting in test and training data\n",
    "att_train, att_test, label_train, label_test = train_test_split(att, label, stratify=label)"
   ]
  },
  {
   "cell_type": "markdown",
   "metadata": {},
   "source": [
    "### Elegir el algoritmo."
   ]
  },
  {
   "cell_type": "code",
   "execution_count": null,
   "metadata": {
    "collapsed": true
   },
   "outputs": [],
   "source": [
    "from sklearn.linear_model import LogisticRegression\n",
    "\n",
    "model = LogisticRegression(tol=1e-10, C=10, max_iter=5000)\n",
    "\n",
    "#tol=1e-10,C=10,max_iter=5000\n",
    "# from sklearn.tree import DecisionTreeClassifier\n",
    "# clf= DecisionTreeClassifier(max_depth=17,min_samples_leaf=100)\n",
    "#max_depth=8,min_samples_leaf=25\n",
    "#from sklearn.svm import SVC\n",
    "#clf = SVC(kernel=\"poly\", degree=4)\n",
    "#gamma=1e-5,kernel=\"linear\"\n",
    "#Accuracy: 0.97 (+/- 0.01)\n",
    "#Recall: 0.26 (+/- 0.17)\n",
    "#Precision: 0.58 (+/- 0.22)"
   ]
  },
  {
   "cell_type": "code",
   "execution_count": null,
   "metadata": {},
   "outputs": [],
   "source": [
    "# Ajustar modelo usando train\n",
    "model.fit(att_train, label_train)\n",
    "\n",
    "# Evaluar modelo usando test\n",
    "label_pred = model.predict(att_test)"
   ]
  },
  {
   "cell_type": "code",
   "execution_count": null,
   "metadata": {},
   "outputs": [],
   "source": [
    "pd.DataFrame({'actual':label_test, 'prediction':label_pred}).head()"
   ]
  },
  {
   "cell_type": "markdown",
   "metadata": {},
   "source": [
    "**Matriz de confusión**<br />\n",
    "\n",
    "<img src=\"images/confusion_matrix.png\" width=\"300\">"
   ]
  },
  {
   "cell_type": "code",
   "execution_count": null,
   "metadata": {},
   "outputs": [],
   "source": [
    "tn, fp, fn, tp = confusion_matrix(lab_test, lab_pred).ravel()\n",
    "\n",
    "print(\"True positives: \", tp)\n",
    "print(\"False negatives: \", fn)\n",
    "print(\"False positives: \", fp)\n",
    "print(\"True negatives: \", tn)"
   ]
  },
  {
   "cell_type": "markdown",
   "metadata": {},
   "source": [
    "**Métricas de evaluacion**<br />\n",
    "\n",
    "<img src=\"images/precision_recall.jpg\" width=\"300\">"
   ]
  },
  {
   "cell_type": "code",
   "execution_count": null,
   "metadata": {},
   "outputs": [],
   "source": [
    "precision = tp/(tp+fp)\n",
    "recall = tp/(tp+fn)\n",
    "accuracy = (tp+tn)/(tp+fp+tn+fn)\n",
    "\n",
    "print(\"Precision: \", precision)\n",
    "print(\"Recall: \", recall)\n",
    "print(\"Accuracy: \", accuracy)\n"
   ]
  },
  {
   "cell_type": "markdown",
   "metadata": {},
   "source": [
    "# Correr Cross Validation"
   ]
  },
  {
   "cell_type": "code",
   "execution_count": null,
   "metadata": {
    "collapsed": true
   },
   "outputs": [],
   "source": [
    "from sklearn.model_selection import cross_val_score \n",
    "from sklearn.metrics import confusion_matrix"
   ]
  },
  {
   "cell_type": "code",
   "execution_count": null,
   "metadata": {},
   "outputs": [],
   "source": [
    "scores=cross_val_score(model, att_train, label_train, cv=5)\n",
    "print(\"Accuracy: %0.2f (+/- %0.2f)\" % (scores.mean(), scores.std()*2 ))\n",
    "\n",
    "recall=cross_val_score(model, att_train, label_train, cv=5, scoring='recall')\n",
    "print(\"Recall: %0.2f (+/- %0.2f)\" % (recall.mean(), recall.std()*2))\n",
    "\n",
    "precision=cross_val_score(model, att_train, label_train, cv=5, scoring='precision')\n",
    "print(\"Precision: %0.2f (+/- %0.2f)\" % (precision.mean(), precision.std()*2))"
   ]
  },
  {
   "cell_type": "code",
   "execution_count": null,
   "metadata": {
    "collapsed": true
   },
   "outputs": [],
   "source": []
  }
 ],
 "metadata": {
  "kernelspec": {
   "display_name": "Python 3",
   "language": "python",
   "name": "python3"
  },
  "language_info": {
   "codemirror_mode": {
    "name": "ipython",
    "version": 3
   },
   "file_extension": ".py",
   "mimetype": "text/x-python",
   "name": "python",
   "nbconvert_exporter": "python",
   "pygments_lexer": "ipython3",
   "version": "3.6.4"
  }
 },
 "nbformat": 4,
 "nbformat_minor": 2
}
